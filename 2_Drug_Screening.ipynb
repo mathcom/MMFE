{
 "cells": [
  {
   "cell_type": "code",
   "execution_count": 1,
   "id": "7dc51823-5b2a-4531-8a13-729b5ae6d8cb",
   "metadata": {},
   "outputs": [],
   "source": [
    "import os\n",
    "import joblib\n",
    "import tqdm\n",
    "import time\n",
    "import pandas as pd\n",
    "import numpy as np\n",
    "from rdkit import Chem\n",
    "from rdkit.Chem import rdFingerprintGenerator\n",
    "from sklearn.model_selection import GridSearchCV\n",
    "from sklearn.calibration import CalibratedClassifierCV\n",
    "from sklearn.ensemble import RandomForestClassifier\n",
    "from sklearn.linear_model import Ridge\n",
    "import matplotlib.pyplot as plt\n",
    "import plotly.express as px"
   ]
  },
  {
   "cell_type": "code",
   "execution_count": 2,
   "id": "cd0165e9-fd67-4294-984e-08b18ce54632",
   "metadata": {},
   "outputs": [],
   "source": [
    "import torch\n",
    "from mmfe.MMFE import MMFE, denormalize"
   ]
  },
  {
   "cell_type": "code",
   "execution_count": 3,
   "id": "326005c3-d9e7-4c3b-a5d4-7b9b70164831",
   "metadata": {},
   "outputs": [],
   "source": [
    "np.random.seed(2025)\n",
    "torch.manual_seed(2025)\n",
    "if torch.cuda.is_available():\n",
    "    torch.cuda.manual_seed(2025)\n",
    "    torch.cuda.manual_seed_all(2025)\n",
    "    torch.backends.cudnn.deterministic = True\n",
    "    torch.backends.cudnn.benchmark = False"
   ]
  },
  {
   "cell_type": "code",
   "execution_count": 4,
   "id": "b02c8438-4114-429a-9d3c-23af5069b8f9",
   "metadata": {},
   "outputs": [],
   "source": [
    "filepath = os.path.join('data', 'david.csv')"
   ]
  },
  {
   "cell_type": "code",
   "execution_count": 5,
   "id": "1b7ee84f-745e-4c47-9a8b-8070ef359525",
   "metadata": {},
   "outputs": [],
   "source": [
    "df_raw = pd.read_csv(filepath)"
   ]
  },
  {
   "cell_type": "code",
   "execution_count": 6,
   "id": "92de5103-339e-45d8-a19a-95062b6dde37",
   "metadata": {},
   "outputs": [
    {
     "data": {
      "text/html": [
       "<div>\n",
       "<style scoped>\n",
       "    .dataframe tbody tr th:only-of-type {\n",
       "        vertical-align: middle;\n",
       "    }\n",
       "\n",
       "    .dataframe tbody tr th {\n",
       "        vertical-align: top;\n",
       "    }\n",
       "\n",
       "    .dataframe thead th {\n",
       "        text-align: right;\n",
       "    }\n",
       "</style>\n",
       "<table border=\"1\" class=\"dataframe\">\n",
       "  <thead>\n",
       "    <tr style=\"text-align: right;\">\n",
       "      <th></th>\n",
       "      <th>Kinase</th>\n",
       "      <th>Compound</th>\n",
       "      <th>compound_iso_smiles</th>\n",
       "      <th>affinity</th>\n",
       "      <th>label</th>\n",
       "    </tr>\n",
       "  </thead>\n",
       "  <tbody>\n",
       "    <tr>\n",
       "      <th>0</th>\n",
       "      <td>EGFR</td>\n",
       "      <td>A-674563</td>\n",
       "      <td>CC1=C2C=C(C=CC2=NN1)C3=CC(=CN=C3)OC[C@H](CC4=C...</td>\n",
       "      <td>5.000000</td>\n",
       "      <td>0</td>\n",
       "    </tr>\n",
       "    <tr>\n",
       "      <th>1</th>\n",
       "      <td>EGFR(E746-A750del)</td>\n",
       "      <td>A-674563</td>\n",
       "      <td>CC1=C2C=C(C=CC2=NN1)C3=CC(=CN=C3)OC[C@H](CC4=C...</td>\n",
       "      <td>5.000000</td>\n",
       "      <td>0</td>\n",
       "    </tr>\n",
       "    <tr>\n",
       "      <th>2</th>\n",
       "      <td>EGFR(G719C)</td>\n",
       "      <td>A-674563</td>\n",
       "      <td>CC1=C2C=C(C=CC2=NN1)C3=CC(=CN=C3)OC[C@H](CC4=C...</td>\n",
       "      <td>5.000000</td>\n",
       "      <td>0</td>\n",
       "    </tr>\n",
       "    <tr>\n",
       "      <th>3</th>\n",
       "      <td>EGFR(G719S)</td>\n",
       "      <td>A-674563</td>\n",
       "      <td>CC1=C2C=C(C=CC2=NN1)C3=CC(=CN=C3)OC[C@H](CC4=C...</td>\n",
       "      <td>5.000000</td>\n",
       "      <td>0</td>\n",
       "    </tr>\n",
       "    <tr>\n",
       "      <th>4</th>\n",
       "      <td>EGFR(L747-E749del,A750P)</td>\n",
       "      <td>A-674563</td>\n",
       "      <td>CC1=C2C=C(C=CC2=NN1)C3=CC(=CN=C3)OC[C@H](CC4=C...</td>\n",
       "      <td>5.000000</td>\n",
       "      <td>0</td>\n",
       "    </tr>\n",
       "    <tr>\n",
       "      <th>...</th>\n",
       "      <td>...</td>\n",
       "      <td>...</td>\n",
       "      <td>...</td>\n",
       "      <td>...</td>\n",
       "      <td>...</td>\n",
       "    </tr>\n",
       "    <tr>\n",
       "      <th>859</th>\n",
       "      <td>EGFR(L858R)</td>\n",
       "      <td>Vandetanib</td>\n",
       "      <td>CN1CCC(CC1)COC2=C(C=C3C(=C2)N=CN=C3NC4=C(C=C(C...</td>\n",
       "      <td>8.060481</td>\n",
       "      <td>1</td>\n",
       "    </tr>\n",
       "    <tr>\n",
       "      <th>860</th>\n",
       "      <td>EGFR(L858R,T790M)</td>\n",
       "      <td>Vandetanib</td>\n",
       "      <td>CN1CCC(CC1)COC2=C(C=C3C(=C2)N=CN=C3NC4=C(C=C(C...</td>\n",
       "      <td>6.638272</td>\n",
       "      <td>1</td>\n",
       "    </tr>\n",
       "    <tr>\n",
       "      <th>861</th>\n",
       "      <td>EGFR(L861Q)</td>\n",
       "      <td>Vandetanib</td>\n",
       "      <td>CN1CCC(CC1)COC2=C(C=C3C(=C2)N=CN=C3NC4=C(C=C(C...</td>\n",
       "      <td>7.958607</td>\n",
       "      <td>1</td>\n",
       "    </tr>\n",
       "    <tr>\n",
       "      <th>862</th>\n",
       "      <td>EGFR(S752-I759del)</td>\n",
       "      <td>Vandetanib</td>\n",
       "      <td>CN1CCC(CC1)COC2=C(C=C3C(=C2)N=CN=C3NC4=C(C=C(C...</td>\n",
       "      <td>7.920819</td>\n",
       "      <td>1</td>\n",
       "    </tr>\n",
       "    <tr>\n",
       "      <th>863</th>\n",
       "      <td>EGFR(T790M)</td>\n",
       "      <td>Vandetanib</td>\n",
       "      <td>CN1CCC(CC1)COC2=C(C=C3C(=C2)N=CN=C3NC4=C(C=C(C...</td>\n",
       "      <td>7.000000</td>\n",
       "      <td>1</td>\n",
       "    </tr>\n",
       "  </tbody>\n",
       "</table>\n",
       "<p>864 rows × 5 columns</p>\n",
       "</div>"
      ],
      "text/plain": [
       "                       Kinase    Compound  \\\n",
       "0                        EGFR    A-674563   \n",
       "1          EGFR(E746-A750del)    A-674563   \n",
       "2                 EGFR(G719C)    A-674563   \n",
       "3                 EGFR(G719S)    A-674563   \n",
       "4    EGFR(L747-E749del,A750P)    A-674563   \n",
       "..                        ...         ...   \n",
       "859               EGFR(L858R)  Vandetanib   \n",
       "860         EGFR(L858R,T790M)  Vandetanib   \n",
       "861               EGFR(L861Q)  Vandetanib   \n",
       "862        EGFR(S752-I759del)  Vandetanib   \n",
       "863               EGFR(T790M)  Vandetanib   \n",
       "\n",
       "                                   compound_iso_smiles  affinity  label  \n",
       "0    CC1=C2C=C(C=CC2=NN1)C3=CC(=CN=C3)OC[C@H](CC4=C...  5.000000      0  \n",
       "1    CC1=C2C=C(C=CC2=NN1)C3=CC(=CN=C3)OC[C@H](CC4=C...  5.000000      0  \n",
       "2    CC1=C2C=C(C=CC2=NN1)C3=CC(=CN=C3)OC[C@H](CC4=C...  5.000000      0  \n",
       "3    CC1=C2C=C(C=CC2=NN1)C3=CC(=CN=C3)OC[C@H](CC4=C...  5.000000      0  \n",
       "4    CC1=C2C=C(C=CC2=NN1)C3=CC(=CN=C3)OC[C@H](CC4=C...  5.000000      0  \n",
       "..                                                 ...       ...    ...  \n",
       "859  CN1CCC(CC1)COC2=C(C=C3C(=C2)N=CN=C3NC4=C(C=C(C...  8.060481      1  \n",
       "860  CN1CCC(CC1)COC2=C(C=C3C(=C2)N=CN=C3NC4=C(C=C(C...  6.638272      1  \n",
       "861  CN1CCC(CC1)COC2=C(C=C3C(=C2)N=CN=C3NC4=C(C=C(C...  7.958607      1  \n",
       "862  CN1CCC(CC1)COC2=C(C=C3C(=C2)N=CN=C3NC4=C(C=C(C...  7.920819      1  \n",
       "863  CN1CCC(CC1)COC2=C(C=C3C(=C2)N=CN=C3NC4=C(C=C(C...  7.000000      1  \n",
       "\n",
       "[864 rows x 5 columns]"
      ]
     },
     "execution_count": 6,
     "metadata": {},
     "output_type": "execute_result"
    }
   ],
   "source": [
    "df_raw"
   ]
  },
  {
   "cell_type": "code",
   "execution_count": 7,
   "id": "c59f0eb5-657f-42c7-a30f-0e8fc0c30eff",
   "metadata": {},
   "outputs": [
    {
     "data": {
      "text/plain": [
       "Kinase\n",
       "EGFR                        72\n",
       "EGFR(E746-A750del)          72\n",
       "EGFR(G719C)                 72\n",
       "EGFR(G719S)                 72\n",
       "EGFR(L747-E749del,A750P)    72\n",
       "EGFR(L747-S752del,P753S)    72\n",
       "EGFR(L747-T751del,Sins)     72\n",
       "EGFR(L858R)                 72\n",
       "EGFR(L858R,T790M)           72\n",
       "EGFR(L861Q)                 72\n",
       "EGFR(S752-I759del)          72\n",
       "EGFR(T790M)                 72\n",
       "Name: count, dtype: int64"
      ]
     },
     "execution_count": 7,
     "metadata": {},
     "output_type": "execute_result"
    }
   ],
   "source": [
    "df_raw['Kinase'].value_counts()"
   ]
  },
  {
   "cell_type": "code",
   "execution_count": 8,
   "id": "f8c02c87-0b69-42e5-898b-33adf75c84af",
   "metadata": {},
   "outputs": [
    {
     "data": {
      "text/html": [
       "<div>\n",
       "<style scoped>\n",
       "    .dataframe tbody tr th:only-of-type {\n",
       "        vertical-align: middle;\n",
       "    }\n",
       "\n",
       "    .dataframe tbody tr th {\n",
       "        vertical-align: top;\n",
       "    }\n",
       "\n",
       "    .dataframe thead th {\n",
       "        text-align: right;\n",
       "    }\n",
       "</style>\n",
       "<table border=\"1\" class=\"dataframe\">\n",
       "  <thead>\n",
       "    <tr style=\"text-align: right;\">\n",
       "      <th></th>\n",
       "      <th>affinity</th>\n",
       "      <th>label</th>\n",
       "    </tr>\n",
       "    <tr>\n",
       "      <th>Kinase</th>\n",
       "      <th></th>\n",
       "      <th></th>\n",
       "    </tr>\n",
       "  </thead>\n",
       "  <tbody>\n",
       "    <tr>\n",
       "      <th>EGFR</th>\n",
       "      <td>411.854286</td>\n",
       "      <td>30</td>\n",
       "    </tr>\n",
       "    <tr>\n",
       "      <th>EGFR(E746-A750del)</th>\n",
       "      <td>413.505460</td>\n",
       "      <td>31</td>\n",
       "    </tr>\n",
       "    <tr>\n",
       "      <th>EGFR(G719C)</th>\n",
       "      <td>416.170369</td>\n",
       "      <td>36</td>\n",
       "    </tr>\n",
       "    <tr>\n",
       "      <th>EGFR(G719S)</th>\n",
       "      <td>411.652954</td>\n",
       "      <td>32</td>\n",
       "    </tr>\n",
       "    <tr>\n",
       "      <th>EGFR(L747-E749del,A750P)</th>\n",
       "      <td>418.632771</td>\n",
       "      <td>34</td>\n",
       "    </tr>\n",
       "    <tr>\n",
       "      <th>EGFR(L747-S752del,P753S)</th>\n",
       "      <td>409.897679</td>\n",
       "      <td>31</td>\n",
       "    </tr>\n",
       "    <tr>\n",
       "      <th>EGFR(L747-T751del,Sins)</th>\n",
       "      <td>413.901206</td>\n",
       "      <td>32</td>\n",
       "    </tr>\n",
       "    <tr>\n",
       "      <th>EGFR(L858R)</th>\n",
       "      <td>414.353889</td>\n",
       "      <td>32</td>\n",
       "    </tr>\n",
       "    <tr>\n",
       "      <th>EGFR(L858R,T790M)</th>\n",
       "      <td>409.776744</td>\n",
       "      <td>27</td>\n",
       "    </tr>\n",
       "    <tr>\n",
       "      <th>EGFR(L861Q)</th>\n",
       "      <td>414.131938</td>\n",
       "      <td>34</td>\n",
       "    </tr>\n",
       "    <tr>\n",
       "      <th>EGFR(S752-I759del)</th>\n",
       "      <td>405.656711</td>\n",
       "      <td>28</td>\n",
       "    </tr>\n",
       "    <tr>\n",
       "      <th>EGFR(T790M)</th>\n",
       "      <td>413.951524</td>\n",
       "      <td>33</td>\n",
       "    </tr>\n",
       "  </tbody>\n",
       "</table>\n",
       "</div>"
      ],
      "text/plain": [
       "                            affinity  label\n",
       "Kinase                                     \n",
       "EGFR                      411.854286     30\n",
       "EGFR(E746-A750del)        413.505460     31\n",
       "EGFR(G719C)               416.170369     36\n",
       "EGFR(G719S)               411.652954     32\n",
       "EGFR(L747-E749del,A750P)  418.632771     34\n",
       "EGFR(L747-S752del,P753S)  409.897679     31\n",
       "EGFR(L747-T751del,Sins)   413.901206     32\n",
       "EGFR(L858R)               414.353889     32\n",
       "EGFR(L858R,T790M)         409.776744     27\n",
       "EGFR(L861Q)               414.131938     34\n",
       "EGFR(S752-I759del)        405.656711     28\n",
       "EGFR(T790M)               413.951524     33"
      ]
     },
     "execution_count": 8,
     "metadata": {},
     "output_type": "execute_result"
    }
   ],
   "source": [
    "df_raw.groupby('Kinase').sum(numeric_only=True)"
   ]
  },
  {
   "cell_type": "code",
   "execution_count": 9,
   "id": "2d94ab8b-2218-458f-81bc-becfb1e38af9",
   "metadata": {},
   "outputs": [],
   "source": [
    "mfpgen = rdFingerprintGenerator.GetMorganGenerator(radius=2, fpSize=2048)"
   ]
  },
  {
   "cell_type": "code",
   "execution_count": 10,
   "id": "1c22b460-622c-4608-bd27-0b6e34bcd50b",
   "metadata": {},
   "outputs": [
    {
     "name": "stderr",
     "output_type": "stream",
     "text": [
      "100%|███████████████████████████████████████████████████████████████████████████████████████████████████████████████████| 12/12 [01:46<00:00,  8.88s/it]\n"
     ]
    }
   ],
   "source": [
    "estimators = {}\n",
    "records = []\n",
    "\n",
    "for kinasename in tqdm.tqdm(df_raw['Kinase'].drop_duplicates()):\n",
    "    df = df_raw.query(f\"Kinase == '{kinasename}'\")\n",
    "    X = [mfpgen.GetFingerprint(Chem.MolFromSmiles(smi)).ToList() for smi in df['compound_iso_smiles']]\n",
    "    X = np.array(X)\n",
    "    y = df['label'].values\n",
    "\n",
    "    ## fit\n",
    "    ## - reference: https://scikit-learn.org/stable/modules/grid_search.html\n",
    "    calibrated_forest = CalibratedClassifierCV(\n",
    "       estimator=RandomForestClassifier(random_state=2025)\n",
    "    )\n",
    "    param_grid = {\n",
    "       'estimator__n_estimators': [20, 40, 60, 80],\n",
    "       'estimator__max_depth': [2, 4, 6, 8]\n",
    "    }\n",
    "    search = GridSearchCV(calibrated_forest, param_grid, cv=5)\n",
    "    search.fit(X, y)\n",
    "\n",
    "    ## store\n",
    "    estimators[kinasename] = search.best_estimator_\n",
    "    records.append({\n",
    "        'Kinase': kinasename,\n",
    "        'Accuracy': search.best_score_,\n",
    "        'max_depth': search.best_params_['estimator__max_depth'],\n",
    "        'n_estimators': search.best_params_['estimator__n_estimators']\n",
    "    })\n",
    "    #print(f\"[{kinasename}] {search.best_score_:.3f}, {search.best_index_}, {search.best_params_}\")\n",
    "\n",
    "df_records = pd.DataFrame(records)"
   ]
  },
  {
   "cell_type": "code",
   "execution_count": 11,
   "id": "171b0569-d2b9-4cb8-b0ee-33228a67f0c8",
   "metadata": {},
   "outputs": [
    {
     "data": {
      "text/html": [
       "<div>\n",
       "<style scoped>\n",
       "    .dataframe tbody tr th:only-of-type {\n",
       "        vertical-align: middle;\n",
       "    }\n",
       "\n",
       "    .dataframe tbody tr th {\n",
       "        vertical-align: top;\n",
       "    }\n",
       "\n",
       "    .dataframe thead th {\n",
       "        text-align: right;\n",
       "    }\n",
       "</style>\n",
       "<table border=\"1\" class=\"dataframe\">\n",
       "  <thead>\n",
       "    <tr style=\"text-align: right;\">\n",
       "      <th></th>\n",
       "      <th>Kinase</th>\n",
       "      <th>Accuracy</th>\n",
       "      <th>max_depth</th>\n",
       "      <th>n_estimators</th>\n",
       "    </tr>\n",
       "  </thead>\n",
       "  <tbody>\n",
       "    <tr>\n",
       "      <th>0</th>\n",
       "      <td>EGFR</td>\n",
       "      <td>0.834286</td>\n",
       "      <td>8</td>\n",
       "      <td>20</td>\n",
       "    </tr>\n",
       "    <tr>\n",
       "      <th>1</th>\n",
       "      <td>EGFR(E746-A750del)</td>\n",
       "      <td>0.751429</td>\n",
       "      <td>4</td>\n",
       "      <td>20</td>\n",
       "    </tr>\n",
       "    <tr>\n",
       "      <th>2</th>\n",
       "      <td>EGFR(G719C)</td>\n",
       "      <td>0.653333</td>\n",
       "      <td>4</td>\n",
       "      <td>20</td>\n",
       "    </tr>\n",
       "    <tr>\n",
       "      <th>3</th>\n",
       "      <td>EGFR(G719S)</td>\n",
       "      <td>0.723810</td>\n",
       "      <td>6</td>\n",
       "      <td>80</td>\n",
       "    </tr>\n",
       "    <tr>\n",
       "      <th>4</th>\n",
       "      <td>EGFR(L747-E749del,A750P)</td>\n",
       "      <td>0.763810</td>\n",
       "      <td>8</td>\n",
       "      <td>80</td>\n",
       "    </tr>\n",
       "    <tr>\n",
       "      <th>5</th>\n",
       "      <td>EGFR(L747-S752del,P753S)</td>\n",
       "      <td>0.820000</td>\n",
       "      <td>2</td>\n",
       "      <td>80</td>\n",
       "    </tr>\n",
       "    <tr>\n",
       "      <th>6</th>\n",
       "      <td>EGFR(L747-T751del,Sins)</td>\n",
       "      <td>0.791429</td>\n",
       "      <td>2</td>\n",
       "      <td>20</td>\n",
       "    </tr>\n",
       "    <tr>\n",
       "      <th>7</th>\n",
       "      <td>EGFR(L858R)</td>\n",
       "      <td>0.804762</td>\n",
       "      <td>4</td>\n",
       "      <td>40</td>\n",
       "    </tr>\n",
       "    <tr>\n",
       "      <th>8</th>\n",
       "      <td>EGFR(L858R,T790M)</td>\n",
       "      <td>0.737143</td>\n",
       "      <td>8</td>\n",
       "      <td>80</td>\n",
       "    </tr>\n",
       "    <tr>\n",
       "      <th>9</th>\n",
       "      <td>EGFR(L861Q)</td>\n",
       "      <td>0.779048</td>\n",
       "      <td>2</td>\n",
       "      <td>80</td>\n",
       "    </tr>\n",
       "    <tr>\n",
       "      <th>10</th>\n",
       "      <td>EGFR(S752-I759del)</td>\n",
       "      <td>0.833333</td>\n",
       "      <td>4</td>\n",
       "      <td>20</td>\n",
       "    </tr>\n",
       "    <tr>\n",
       "      <th>11</th>\n",
       "      <td>EGFR(T790M)</td>\n",
       "      <td>0.695238</td>\n",
       "      <td>4</td>\n",
       "      <td>60</td>\n",
       "    </tr>\n",
       "  </tbody>\n",
       "</table>\n",
       "</div>"
      ],
      "text/plain": [
       "                      Kinase  Accuracy  max_depth  n_estimators\n",
       "0                       EGFR  0.834286          8            20\n",
       "1         EGFR(E746-A750del)  0.751429          4            20\n",
       "2                EGFR(G719C)  0.653333          4            20\n",
       "3                EGFR(G719S)  0.723810          6            80\n",
       "4   EGFR(L747-E749del,A750P)  0.763810          8            80\n",
       "5   EGFR(L747-S752del,P753S)  0.820000          2            80\n",
       "6    EGFR(L747-T751del,Sins)  0.791429          2            20\n",
       "7                EGFR(L858R)  0.804762          4            40\n",
       "8          EGFR(L858R,T790M)  0.737143          8            80\n",
       "9                EGFR(L861Q)  0.779048          2            80\n",
       "10        EGFR(S752-I759del)  0.833333          4            20\n",
       "11               EGFR(T790M)  0.695238          4            60"
      ]
     },
     "execution_count": 11,
     "metadata": {},
     "output_type": "execute_result"
    }
   ],
   "source": [
    "df_records"
   ]
  },
  {
   "cell_type": "code",
   "execution_count": 12,
   "id": "39c686d3-0924-4b6b-995d-340bf256f02d",
   "metadata": {
    "scrolled": true
   },
   "outputs": [],
   "source": [
    "filepath_zinc = os.path.join('data', 'zinc250k.csv')\n",
    "if not os.path.exists(filepath_zinc):\n",
    "    os.system('wget https://raw.githubusercontent.com/aspuru-guzik-group/chemical_vae/master/models/zinc_properties/250k_rndm_zinc_drugs_clean_3.csv -q -O data/zinc250k.csv')"
   ]
  },
  {
   "cell_type": "code",
   "execution_count": 13,
   "id": "c19a8b54-9a81-4336-bd26-8858a9e923e8",
   "metadata": {},
   "outputs": [
    {
     "name": "stderr",
     "output_type": "stream",
     "text": [
      "100%|█████████████████████████████████████████████████████████████████████████████████████████████████████████| 161617/161617 [00:30<00:00, 5287.75it/s]\n"
     ]
    }
   ],
   "source": [
    "df_zinc = pd.read_csv(filepath_zinc).query('qed>0.7').reset_index(drop=True)\n",
    "\n",
    "# canonicalization\n",
    "for i in tqdm.trange(len(df_zinc)):\n",
    "    m = Chem.MolFromSmiles(df_zinc.loc[i,'smiles'])\n",
    "    df_zinc.loc[i,'smiles'] = Chem.MolToSmiles(m, kekuleSmiles=True, isomericSmiles=True, canonical=True)"
   ]
  },
  {
   "cell_type": "code",
   "execution_count": 14,
   "id": "10542e1c-ae5b-4b8b-9a23-549ea912f40d",
   "metadata": {},
   "outputs": [
    {
     "data": {
      "text/html": [
       "<div>\n",
       "<style scoped>\n",
       "    .dataframe tbody tr th:only-of-type {\n",
       "        vertical-align: middle;\n",
       "    }\n",
       "\n",
       "    .dataframe tbody tr th {\n",
       "        vertical-align: top;\n",
       "    }\n",
       "\n",
       "    .dataframe thead th {\n",
       "        text-align: right;\n",
       "    }\n",
       "</style>\n",
       "<table border=\"1\" class=\"dataframe\">\n",
       "  <thead>\n",
       "    <tr style=\"text-align: right;\">\n",
       "      <th></th>\n",
       "      <th>smiles</th>\n",
       "      <th>logP</th>\n",
       "      <th>qed</th>\n",
       "      <th>SAS</th>\n",
       "    </tr>\n",
       "  </thead>\n",
       "  <tbody>\n",
       "    <tr>\n",
       "      <th>0</th>\n",
       "      <td>CC(C)(C)C1=CC=C2OC=C(CC(=O)NC3=CC=CC=C3F)C2=C1</td>\n",
       "      <td>5.05060</td>\n",
       "      <td>0.702012</td>\n",
       "      <td>2.084095</td>\n",
       "    </tr>\n",
       "    <tr>\n",
       "      <th>1</th>\n",
       "      <td>C[C@@H]1CC(NC2=CN=CC(C3=NN=CN3C)=C2)C[C@@H](C)C1</td>\n",
       "      <td>3.11370</td>\n",
       "      <td>0.928975</td>\n",
       "      <td>3.432004</td>\n",
       "    </tr>\n",
       "    <tr>\n",
       "      <th>2</th>\n",
       "      <td>N#CC1=C(SCC(=O)NC2=CC=CC(Cl)=C2)N=C([O-])[C@H]...</td>\n",
       "      <td>3.60956</td>\n",
       "      <td>0.789027</td>\n",
       "      <td>4.035182</td>\n",
       "    </tr>\n",
       "    <tr>\n",
       "      <th>3</th>\n",
       "      <td>CC[NH+](CC)[C@](C)(CC)[C@H](O)C1=CSC=C1Br</td>\n",
       "      <td>2.63740</td>\n",
       "      <td>0.824369</td>\n",
       "      <td>5.091438</td>\n",
       "    </tr>\n",
       "    <tr>\n",
       "      <th>4</th>\n",
       "      <td>C[C@@H]1CN(C(=O)C2=CC(Br)=CN2C)CC[C@H]1[NH3+]</td>\n",
       "      <td>0.88010</td>\n",
       "      <td>0.835024</td>\n",
       "      <td>3.947933</td>\n",
       "    </tr>\n",
       "    <tr>\n",
       "      <th>...</th>\n",
       "      <td>...</td>\n",
       "      <td>...</td>\n",
       "      <td>...</td>\n",
       "      <td>...</td>\n",
       "    </tr>\n",
       "    <tr>\n",
       "      <th>161612</th>\n",
       "      <td>COC1=CC(C[NH2+]C[C@@H](C)C[C@@H](C)O)=CC(Br)=C1O</td>\n",
       "      <td>1.63370</td>\n",
       "      <td>0.716664</td>\n",
       "      <td>4.196117</td>\n",
       "    </tr>\n",
       "    <tr>\n",
       "      <th>161613</th>\n",
       "      <td>CC1(C)CC[C@H](CNC(=O)CN2N=CC3=CC=CC=C3C2=O)C2=...</td>\n",
       "      <td>3.36790</td>\n",
       "      <td>0.745901</td>\n",
       "      <td>2.900726</td>\n",
       "    </tr>\n",
       "    <tr>\n",
       "      <th>161614</th>\n",
       "      <td>CN1C=CN=C1C(=O)C1=CC=C(NC(=O)C2CCN(C(=O)C(C)(C...</td>\n",
       "      <td>2.87430</td>\n",
       "      <td>0.799426</td>\n",
       "      <td>2.326627</td>\n",
       "    </tr>\n",
       "    <tr>\n",
       "      <th>161615</th>\n",
       "      <td>CC1=CC=C(NC(=O)C(=O)N(C)CC2=CC=CC=C2)C(C)=C1</td>\n",
       "      <td>2.90054</td>\n",
       "      <td>0.878086</td>\n",
       "      <td>1.840642</td>\n",
       "    </tr>\n",
       "    <tr>\n",
       "      <th>161616</th>\n",
       "      <td>CC1=CC(C(=O)NC2=CC=C(OCC(N)=O)C=C2)=C(C)N1C1CC1</td>\n",
       "      <td>2.55624</td>\n",
       "      <td>0.852917</td>\n",
       "      <td>2.024638</td>\n",
       "    </tr>\n",
       "  </tbody>\n",
       "</table>\n",
       "<p>161617 rows × 4 columns</p>\n",
       "</div>"
      ],
      "text/plain": [
       "                                                   smiles     logP       qed  \\\n",
       "0          CC(C)(C)C1=CC=C2OC=C(CC(=O)NC3=CC=CC=C3F)C2=C1  5.05060  0.702012   \n",
       "1        C[C@@H]1CC(NC2=CN=CC(C3=NN=CN3C)=C2)C[C@@H](C)C1  3.11370  0.928975   \n",
       "2       N#CC1=C(SCC(=O)NC2=CC=CC(Cl)=C2)N=C([O-])[C@H]...  3.60956  0.789027   \n",
       "3               CC[NH+](CC)[C@](C)(CC)[C@H](O)C1=CSC=C1Br  2.63740  0.824369   \n",
       "4           C[C@@H]1CN(C(=O)C2=CC(Br)=CN2C)CC[C@H]1[NH3+]  0.88010  0.835024   \n",
       "...                                                   ...      ...       ...   \n",
       "161612   COC1=CC(C[NH2+]C[C@@H](C)C[C@@H](C)O)=CC(Br)=C1O  1.63370  0.716664   \n",
       "161613  CC1(C)CC[C@H](CNC(=O)CN2N=CC3=CC=CC=C3C2=O)C2=...  3.36790  0.745901   \n",
       "161614  CN1C=CN=C1C(=O)C1=CC=C(NC(=O)C2CCN(C(=O)C(C)(C...  2.87430  0.799426   \n",
       "161615       CC1=CC=C(NC(=O)C(=O)N(C)CC2=CC=CC=C2)C(C)=C1  2.90054  0.878086   \n",
       "161616    CC1=CC(C(=O)NC2=CC=C(OCC(N)=O)C=C2)=C(C)N1C1CC1  2.55624  0.852917   \n",
       "\n",
       "             SAS  \n",
       "0       2.084095  \n",
       "1       3.432004  \n",
       "2       4.035182  \n",
       "3       5.091438  \n",
       "4       3.947933  \n",
       "...          ...  \n",
       "161612  4.196117  \n",
       "161613  2.900726  \n",
       "161614  2.326627  \n",
       "161615  1.840642  \n",
       "161616  2.024638  \n",
       "\n",
       "[161617 rows x 4 columns]"
      ]
     },
     "execution_count": 14,
     "metadata": {},
     "output_type": "execute_result"
    }
   ],
   "source": [
    "df_zinc"
   ]
  },
  {
   "cell_type": "code",
   "execution_count": 15,
   "id": "76dc625c-feaf-4ee4-a83e-bcf0de283795",
   "metadata": {},
   "outputs": [],
   "source": [
    "class MMFERegressor:\n",
    "    def __init__(self):\n",
    "        ## args\n",
    "        self.input_dir_ckpt = os.path.join('results', '300nM', 'MMFE')\n",
    "        self.device = torch.device('cuda' if torch.cuda.is_available() else 'cpu')\n",
    "        self.fold = 0\n",
    "        ## load\n",
    "        self.emb = MMFE(self.input_dir_ckpt, self.device, self.fold)\n",
    "        self.emb.load_model()\n",
    "        with open(os.path.join(self.input_dir_ckpt, f\"Fold{self.fold+1}\", \"Ridge.pkl\"), \"rb\") as f:\n",
    "            self.reg = joblib.load(f)\n",
    "\n",
    "    def predict(self, X):\n",
    "        h = self.emb.predict(X)\n",
    "        y = denormalize(self.reg.predict(h))\n",
    "        return y"
   ]
  },
  {
   "cell_type": "code",
   "execution_count": 16,
   "id": "07ece0fc-9b44-42b2-a7bd-4329d26f61e5",
   "metadata": {},
   "outputs": [
    {
     "name": "stderr",
     "output_type": "stream",
     "text": [
      "/home/descartes/miniconda3/envs/mmfe/lib/python3.9/site-packages/torch/functional.py:478: UserWarning: torch.meshgrid: in an upcoming release, it will be required to pass the indexing argument. (Triggered internally at  /opt/conda/conda-bld/pytorch_1659484806139/work/aten/src/ATen/native/TensorShape.cpp:2894.)\n",
      "  return _VF.meshgrid(tensors, **kwargs)  # type: ignore[attr-defined]\n"
     ]
    }
   ],
   "source": [
    "model = MMFERegressor()"
   ]
  },
  {
   "cell_type": "code",
   "execution_count": 17,
   "id": "fda43ec5-0cb2-488f-b933-383828593963",
   "metadata": {},
   "outputs": [
    {
     "name": "stdout",
     "output_type": "stream",
     "text": [
      "Execution Time: 2326 sec\n"
     ]
    }
   ],
   "source": [
    "start_time = time.time()\n",
    "sescore = model.predict(df_zinc['smiles'].values)\n",
    "print(f\"Execution Time: {time.time() - start_time:.0f} sec\")"
   ]
  },
  {
   "cell_type": "code",
   "execution_count": 18,
   "id": "814a2e65-1062-4112-b6db-0a7fc8330496",
   "metadata": {},
   "outputs": [],
   "source": [
    "df_res = df_zinc.copy()\n",
    "df_res['sescore'] = sescore"
   ]
  },
  {
   "cell_type": "code",
   "execution_count": 19,
   "id": "e298164e-cc2b-4d19-9f8f-76510f41e645",
   "metadata": {},
   "outputs": [
    {
     "name": "stderr",
     "output_type": "stream",
     "text": [
      "100%|████████████████████████████████████████████████████████████████████████████████████████████████████████| 161617/161617 [00:13<00:00, 11809.62it/s]\n"
     ]
    }
   ],
   "source": [
    "X = []\n",
    "for smi in tqdm.tqdm(df_zinc['smiles']):\n",
    "    m = Chem.MolFromSmiles(smi)\n",
    "    X.append(mfpgen.GetFingerprint(m).ToList())\n",
    "\n",
    "X = np.array(X)"
   ]
  },
  {
   "cell_type": "code",
   "execution_count": 20,
   "id": "fb33f906-af49-448c-93c2-ccf9b0177280",
   "metadata": {},
   "outputs": [
    {
     "name": "stderr",
     "output_type": "stream",
     "text": [
      "100%|███████████████████████████████████████████████████████████████████████████████████████████████████████████████████| 12/12 [00:31<00:00,  2.66s/it]\n"
     ]
    }
   ],
   "source": [
    "for kinasename, reg in tqdm.tqdm(estimators.items()):\n",
    "    df_res[kinasename] = reg.predict_proba(X)[:,1]"
   ]
  },
  {
   "cell_type": "code",
   "execution_count": 21,
   "id": "1480dd01-d8c1-4bf1-9b77-ef5755d5027e",
   "metadata": {},
   "outputs": [
    {
     "data": {
      "text/html": [
       "<div>\n",
       "<style scoped>\n",
       "    .dataframe tbody tr th:only-of-type {\n",
       "        vertical-align: middle;\n",
       "    }\n",
       "\n",
       "    .dataframe tbody tr th {\n",
       "        vertical-align: top;\n",
       "    }\n",
       "\n",
       "    .dataframe thead th {\n",
       "        text-align: right;\n",
       "    }\n",
       "</style>\n",
       "<table border=\"1\" class=\"dataframe\">\n",
       "  <thead>\n",
       "    <tr style=\"text-align: right;\">\n",
       "      <th></th>\n",
       "      <th>smiles</th>\n",
       "      <th>logP</th>\n",
       "      <th>qed</th>\n",
       "      <th>SAS</th>\n",
       "      <th>sescore</th>\n",
       "      <th>EGFR</th>\n",
       "      <th>EGFR(E746-A750del)</th>\n",
       "      <th>EGFR(G719C)</th>\n",
       "      <th>EGFR(G719S)</th>\n",
       "      <th>EGFR(L747-E749del,A750P)</th>\n",
       "      <th>EGFR(L747-S752del,P753S)</th>\n",
       "      <th>EGFR(L747-T751del,Sins)</th>\n",
       "      <th>EGFR(L858R)</th>\n",
       "      <th>EGFR(L858R,T790M)</th>\n",
       "      <th>EGFR(L861Q)</th>\n",
       "      <th>EGFR(S752-I759del)</th>\n",
       "      <th>EGFR(T790M)</th>\n",
       "    </tr>\n",
       "  </thead>\n",
       "  <tbody>\n",
       "    <tr>\n",
       "      <th>0</th>\n",
       "      <td>CC(C)(C)C1=CC=C2OC=C(CC(=O)NC3=CC=CC=C3F)C2=C1</td>\n",
       "      <td>5.05060</td>\n",
       "      <td>0.702012</td>\n",
       "      <td>2.084095</td>\n",
       "      <td>0.093746</td>\n",
       "      <td>0.314441</td>\n",
       "      <td>0.359104</td>\n",
       "      <td>0.443000</td>\n",
       "      <td>0.363951</td>\n",
       "      <td>0.304853</td>\n",
       "      <td>0.295948</td>\n",
       "      <td>0.299055</td>\n",
       "      <td>0.269901</td>\n",
       "      <td>0.256091</td>\n",
       "      <td>0.355051</td>\n",
       "      <td>0.194739</td>\n",
       "      <td>0.430006</td>\n",
       "    </tr>\n",
       "    <tr>\n",
       "      <th>1</th>\n",
       "      <td>C[C@@H]1CC(NC2=CN=CC(C3=NN=CN3C)=C2)C[C@@H](C)C1</td>\n",
       "      <td>3.11370</td>\n",
       "      <td>0.928975</td>\n",
       "      <td>3.432004</td>\n",
       "      <td>0.092751</td>\n",
       "      <td>0.178640</td>\n",
       "      <td>0.230725</td>\n",
       "      <td>0.430962</td>\n",
       "      <td>0.279116</td>\n",
       "      <td>0.272627</td>\n",
       "      <td>0.276668</td>\n",
       "      <td>0.321838</td>\n",
       "      <td>0.174584</td>\n",
       "      <td>0.250903</td>\n",
       "      <td>0.296671</td>\n",
       "      <td>0.166538</td>\n",
       "      <td>0.256608</td>\n",
       "    </tr>\n",
       "    <tr>\n",
       "      <th>2</th>\n",
       "      <td>N#CC1=C(SCC(=O)NC2=CC=CC(Cl)=C2)N=C([O-])[C@H]...</td>\n",
       "      <td>3.60956</td>\n",
       "      <td>0.789027</td>\n",
       "      <td>4.035182</td>\n",
       "      <td>0.100687</td>\n",
       "      <td>0.386321</td>\n",
       "      <td>0.318964</td>\n",
       "      <td>0.426157</td>\n",
       "      <td>0.325990</td>\n",
       "      <td>0.407604</td>\n",
       "      <td>0.436998</td>\n",
       "      <td>0.309957</td>\n",
       "      <td>0.420547</td>\n",
       "      <td>0.300804</td>\n",
       "      <td>0.471166</td>\n",
       "      <td>0.204113</td>\n",
       "      <td>0.339407</td>\n",
       "    </tr>\n",
       "    <tr>\n",
       "      <th>3</th>\n",
       "      <td>CC[NH+](CC)[C@](C)(CC)[C@H](O)C1=CSC=C1Br</td>\n",
       "      <td>2.63740</td>\n",
       "      <td>0.824369</td>\n",
       "      <td>5.091438</td>\n",
       "      <td>0.226556</td>\n",
       "      <td>0.224699</td>\n",
       "      <td>0.232019</td>\n",
       "      <td>0.460077</td>\n",
       "      <td>0.299243</td>\n",
       "      <td>0.173990</td>\n",
       "      <td>0.219275</td>\n",
       "      <td>0.286356</td>\n",
       "      <td>0.213272</td>\n",
       "      <td>0.255384</td>\n",
       "      <td>0.305033</td>\n",
       "      <td>0.183011</td>\n",
       "      <td>0.293385</td>\n",
       "    </tr>\n",
       "    <tr>\n",
       "      <th>4</th>\n",
       "      <td>C[C@@H]1CN(C(=O)C2=CC(Br)=CN2C)CC[C@H]1[NH3+]</td>\n",
       "      <td>0.88010</td>\n",
       "      <td>0.835024</td>\n",
       "      <td>3.947933</td>\n",
       "      <td>0.079038</td>\n",
       "      <td>0.255010</td>\n",
       "      <td>0.265187</td>\n",
       "      <td>0.454606</td>\n",
       "      <td>0.331528</td>\n",
       "      <td>0.241842</td>\n",
       "      <td>0.224095</td>\n",
       "      <td>0.308137</td>\n",
       "      <td>0.216074</td>\n",
       "      <td>0.281172</td>\n",
       "      <td>0.324766</td>\n",
       "      <td>0.206307</td>\n",
       "      <td>0.346088</td>\n",
       "    </tr>\n",
       "    <tr>\n",
       "      <th>...</th>\n",
       "      <td>...</td>\n",
       "      <td>...</td>\n",
       "      <td>...</td>\n",
       "      <td>...</td>\n",
       "      <td>...</td>\n",
       "      <td>...</td>\n",
       "      <td>...</td>\n",
       "      <td>...</td>\n",
       "      <td>...</td>\n",
       "      <td>...</td>\n",
       "      <td>...</td>\n",
       "      <td>...</td>\n",
       "      <td>...</td>\n",
       "      <td>...</td>\n",
       "      <td>...</td>\n",
       "      <td>...</td>\n",
       "      <td>...</td>\n",
       "    </tr>\n",
       "    <tr>\n",
       "      <th>161612</th>\n",
       "      <td>COC1=CC(C[NH2+]C[C@@H](C)C[C@@H](C)O)=CC(Br)=C1O</td>\n",
       "      <td>1.63370</td>\n",
       "      <td>0.716664</td>\n",
       "      <td>4.196117</td>\n",
       "      <td>0.127799</td>\n",
       "      <td>0.376857</td>\n",
       "      <td>0.443080</td>\n",
       "      <td>0.555353</td>\n",
       "      <td>0.391450</td>\n",
       "      <td>0.273252</td>\n",
       "      <td>0.430355</td>\n",
       "      <td>0.458617</td>\n",
       "      <td>0.409594</td>\n",
       "      <td>0.332414</td>\n",
       "      <td>0.499320</td>\n",
       "      <td>0.427588</td>\n",
       "      <td>0.337836</td>\n",
       "    </tr>\n",
       "    <tr>\n",
       "      <th>161613</th>\n",
       "      <td>CC1(C)CC[C@H](CNC(=O)CN2N=CC3=CC=CC=C3C2=O)C2=...</td>\n",
       "      <td>3.36790</td>\n",
       "      <td>0.745901</td>\n",
       "      <td>2.900726</td>\n",
       "      <td>0.112039</td>\n",
       "      <td>0.284296</td>\n",
       "      <td>0.349478</td>\n",
       "      <td>0.458503</td>\n",
       "      <td>0.338412</td>\n",
       "      <td>0.424019</td>\n",
       "      <td>0.309055</td>\n",
       "      <td>0.338528</td>\n",
       "      <td>0.303612</td>\n",
       "      <td>0.301531</td>\n",
       "      <td>0.419400</td>\n",
       "      <td>0.262324</td>\n",
       "      <td>0.473416</td>\n",
       "    </tr>\n",
       "    <tr>\n",
       "      <th>161614</th>\n",
       "      <td>CN1C=CN=C1C(=O)C1=CC=C(NC(=O)C2CCN(C(=O)C(C)(C...</td>\n",
       "      <td>2.87430</td>\n",
       "      <td>0.799426</td>\n",
       "      <td>2.326627</td>\n",
       "      <td>0.121725</td>\n",
       "      <td>0.175615</td>\n",
       "      <td>0.271114</td>\n",
       "      <td>0.445858</td>\n",
       "      <td>0.294046</td>\n",
       "      <td>0.304118</td>\n",
       "      <td>0.266636</td>\n",
       "      <td>0.260336</td>\n",
       "      <td>0.199911</td>\n",
       "      <td>0.266479</td>\n",
       "      <td>0.339993</td>\n",
       "      <td>0.137669</td>\n",
       "      <td>0.257387</td>\n",
       "    </tr>\n",
       "    <tr>\n",
       "      <th>161615</th>\n",
       "      <td>CC1=CC=C(NC(=O)C(=O)N(C)CC2=CC=CC=C2)C(C)=C1</td>\n",
       "      <td>2.90054</td>\n",
       "      <td>0.878086</td>\n",
       "      <td>1.840642</td>\n",
       "      <td>0.080547</td>\n",
       "      <td>0.201385</td>\n",
       "      <td>0.237552</td>\n",
       "      <td>0.433113</td>\n",
       "      <td>0.279169</td>\n",
       "      <td>0.265630</td>\n",
       "      <td>0.220394</td>\n",
       "      <td>0.299096</td>\n",
       "      <td>0.196881</td>\n",
       "      <td>0.294897</td>\n",
       "      <td>0.296547</td>\n",
       "      <td>0.145166</td>\n",
       "      <td>0.361878</td>\n",
       "    </tr>\n",
       "    <tr>\n",
       "      <th>161616</th>\n",
       "      <td>CC1=CC(C(=O)NC2=CC=C(OCC(N)=O)C=C2)=C(C)N1C1CC1</td>\n",
       "      <td>2.55624</td>\n",
       "      <td>0.852917</td>\n",
       "      <td>2.024638</td>\n",
       "      <td>0.066218</td>\n",
       "      <td>0.252628</td>\n",
       "      <td>0.262374</td>\n",
       "      <td>0.458433</td>\n",
       "      <td>0.307355</td>\n",
       "      <td>0.286684</td>\n",
       "      <td>0.278690</td>\n",
       "      <td>0.306025</td>\n",
       "      <td>0.272900</td>\n",
       "      <td>0.249671</td>\n",
       "      <td>0.402546</td>\n",
       "      <td>0.161485</td>\n",
       "      <td>0.307589</td>\n",
       "    </tr>\n",
       "  </tbody>\n",
       "</table>\n",
       "<p>161617 rows × 17 columns</p>\n",
       "</div>"
      ],
      "text/plain": [
       "                                                   smiles     logP       qed  \\\n",
       "0          CC(C)(C)C1=CC=C2OC=C(CC(=O)NC3=CC=CC=C3F)C2=C1  5.05060  0.702012   \n",
       "1        C[C@@H]1CC(NC2=CN=CC(C3=NN=CN3C)=C2)C[C@@H](C)C1  3.11370  0.928975   \n",
       "2       N#CC1=C(SCC(=O)NC2=CC=CC(Cl)=C2)N=C([O-])[C@H]...  3.60956  0.789027   \n",
       "3               CC[NH+](CC)[C@](C)(CC)[C@H](O)C1=CSC=C1Br  2.63740  0.824369   \n",
       "4           C[C@@H]1CN(C(=O)C2=CC(Br)=CN2C)CC[C@H]1[NH3+]  0.88010  0.835024   \n",
       "...                                                   ...      ...       ...   \n",
       "161612   COC1=CC(C[NH2+]C[C@@H](C)C[C@@H](C)O)=CC(Br)=C1O  1.63370  0.716664   \n",
       "161613  CC1(C)CC[C@H](CNC(=O)CN2N=CC3=CC=CC=C3C2=O)C2=...  3.36790  0.745901   \n",
       "161614  CN1C=CN=C1C(=O)C1=CC=C(NC(=O)C2CCN(C(=O)C(C)(C...  2.87430  0.799426   \n",
       "161615       CC1=CC=C(NC(=O)C(=O)N(C)CC2=CC=CC=C2)C(C)=C1  2.90054  0.878086   \n",
       "161616    CC1=CC(C(=O)NC2=CC=C(OCC(N)=O)C=C2)=C(C)N1C1CC1  2.55624  0.852917   \n",
       "\n",
       "             SAS   sescore      EGFR  EGFR(E746-A750del)  EGFR(G719C)  \\\n",
       "0       2.084095  0.093746  0.314441            0.359104     0.443000   \n",
       "1       3.432004  0.092751  0.178640            0.230725     0.430962   \n",
       "2       4.035182  0.100687  0.386321            0.318964     0.426157   \n",
       "3       5.091438  0.226556  0.224699            0.232019     0.460077   \n",
       "4       3.947933  0.079038  0.255010            0.265187     0.454606   \n",
       "...          ...       ...       ...                 ...          ...   \n",
       "161612  4.196117  0.127799  0.376857            0.443080     0.555353   \n",
       "161613  2.900726  0.112039  0.284296            0.349478     0.458503   \n",
       "161614  2.326627  0.121725  0.175615            0.271114     0.445858   \n",
       "161615  1.840642  0.080547  0.201385            0.237552     0.433113   \n",
       "161616  2.024638  0.066218  0.252628            0.262374     0.458433   \n",
       "\n",
       "        EGFR(G719S)  EGFR(L747-E749del,A750P)  EGFR(L747-S752del,P753S)  \\\n",
       "0          0.363951                  0.304853                  0.295948   \n",
       "1          0.279116                  0.272627                  0.276668   \n",
       "2          0.325990                  0.407604                  0.436998   \n",
       "3          0.299243                  0.173990                  0.219275   \n",
       "4          0.331528                  0.241842                  0.224095   \n",
       "...             ...                       ...                       ...   \n",
       "161612     0.391450                  0.273252                  0.430355   \n",
       "161613     0.338412                  0.424019                  0.309055   \n",
       "161614     0.294046                  0.304118                  0.266636   \n",
       "161615     0.279169                  0.265630                  0.220394   \n",
       "161616     0.307355                  0.286684                  0.278690   \n",
       "\n",
       "        EGFR(L747-T751del,Sins)  EGFR(L858R)  EGFR(L858R,T790M)  EGFR(L861Q)  \\\n",
       "0                      0.299055     0.269901           0.256091     0.355051   \n",
       "1                      0.321838     0.174584           0.250903     0.296671   \n",
       "2                      0.309957     0.420547           0.300804     0.471166   \n",
       "3                      0.286356     0.213272           0.255384     0.305033   \n",
       "4                      0.308137     0.216074           0.281172     0.324766   \n",
       "...                         ...          ...                ...          ...   \n",
       "161612                 0.458617     0.409594           0.332414     0.499320   \n",
       "161613                 0.338528     0.303612           0.301531     0.419400   \n",
       "161614                 0.260336     0.199911           0.266479     0.339993   \n",
       "161615                 0.299096     0.196881           0.294897     0.296547   \n",
       "161616                 0.306025     0.272900           0.249671     0.402546   \n",
       "\n",
       "        EGFR(S752-I759del)  EGFR(T790M)  \n",
       "0                 0.194739     0.430006  \n",
       "1                 0.166538     0.256608  \n",
       "2                 0.204113     0.339407  \n",
       "3                 0.183011     0.293385  \n",
       "4                 0.206307     0.346088  \n",
       "...                    ...          ...  \n",
       "161612            0.427588     0.337836  \n",
       "161613            0.262324     0.473416  \n",
       "161614            0.137669     0.257387  \n",
       "161615            0.145166     0.361878  \n",
       "161616            0.161485     0.307589  \n",
       "\n",
       "[161617 rows x 17 columns]"
      ]
     },
     "execution_count": 21,
     "metadata": {},
     "output_type": "execute_result"
    }
   ],
   "source": [
    "df_res"
   ]
  },
  {
   "cell_type": "code",
   "execution_count": 22,
   "id": "e432cfa2-0edc-4fcd-8c1a-827e4a1f31fe",
   "metadata": {},
   "outputs": [
    {
     "data": {
      "text/plain": [
       "count    161617.000000\n",
       "mean          0.112862\n",
       "std           0.042130\n",
       "min           0.015658\n",
       "25%           0.082380\n",
       "50%           0.106724\n",
       "75%           0.136463\n",
       "max           0.370860\n",
       "Name: sescore, dtype: float64"
      ]
     },
     "execution_count": 22,
     "metadata": {},
     "output_type": "execute_result"
    }
   ],
   "source": [
    "df_res['sescore'].describe()"
   ]
  },
  {
   "cell_type": "code",
   "execution_count": 32,
   "id": "aad0ebf6-8036-4bf0-aa3b-9ca946b4dc8a",
   "metadata": {},
   "outputs": [
    {
     "name": "stdout",
     "output_type": "stream",
     "text": [
      "5578\n"
     ]
    }
   ],
   "source": [
    "#target_kinase = 'EGFR(L858R,T790M)'\n",
    "target_kinase = 'EGFR(T790M)'\n",
    "\n",
    "output_dir = os.path.join('results', 'Drug_Screening')\n",
    "if not os.path.exists(output_dir):\n",
    "    os.makedirs(output_dir)\n",
    "\n",
    "c = df_res[target_kinase] > 0.51\n",
    "df_comp = df_res[c]\n",
    "print(len(df_comp))\n",
    "\n",
    "kinasenames = df_raw['Kinase'].drop_duplicates().values.tolist()\n",
    "p = kinasenames.index(target_kinase)\n",
    "if p > 0:\n",
    "    kinasenames = [target_kinase,] + kinasenames[:p] + kinasenames[p+1:]"
   ]
  },
  {
   "cell_type": "code",
   "execution_count": 33,
   "id": "c93a5776-82dd-40cf-a836-e6d3eff24b01",
   "metadata": {},
   "outputs": [],
   "source": [
    "df_comp.to_csv(os.path.join(output_dir, f\"{target_kinase}.csv\"), index=False)"
   ]
  },
  {
   "cell_type": "code",
   "execution_count": 34,
   "id": "731f5f0c-2415-47ee-be26-61d2a02820f8",
   "metadata": {},
   "outputs": [],
   "source": [
    "df_test = df_comp.nlargest(n=10, columns=['sescore']).mean(numeric_only=True) \\\n",
    "    .to_frame() \\\n",
    "    .rename(columns={0:'AFFINITY'}) \\\n",
    "    .loc[kinasenames,:]\n",
    "\n",
    "df_test['AFFINITY'] /= df_test.loc[target_kinase,'AFFINITY']\n",
    "\n",
    "df_test['LABEL'] = 'w/MMFE'"
   ]
  },
  {
   "cell_type": "code",
   "execution_count": 35,
   "id": "e3a5fd02-f811-4336-a82d-23ffcec40972",
   "metadata": {},
   "outputs": [],
   "source": [
    "df_ctrl = df_comp.nlargest(n=10, columns=[target_kinase]).mean(numeric_only=True) \\\n",
    "    .to_frame() \\\n",
    "    .rename(columns={0:'AFFINITY'}) \\\n",
    "    .loc[kinasenames,:]\n",
    "\n",
    "df_ctrl['AFFINITY'] /= df_ctrl.loc[target_kinase,'AFFINITY']\n",
    "\n",
    "df_ctrl['LABEL'] = 'wo/MMFE'"
   ]
  },
  {
   "cell_type": "code",
   "execution_count": 36,
   "id": "05657630-f362-4598-a305-11f871d5f0a8",
   "metadata": {},
   "outputs": [],
   "source": [
    "df_mean = pd.concat([\n",
    "    df_ctrl,\n",
    "    df_test,\n",
    "]).reset_index().rename(columns={'index':'KINASE'})"
   ]
  },
  {
   "cell_type": "code",
   "execution_count": 37,
   "id": "d1084449-9fa5-45a5-a769-5201002fc7f3",
   "metadata": {},
   "outputs": [
    {
     "data": {
      "text/html": [
       "<div>\n",
       "<style scoped>\n",
       "    .dataframe tbody tr th:only-of-type {\n",
       "        vertical-align: middle;\n",
       "    }\n",
       "\n",
       "    .dataframe tbody tr th {\n",
       "        vertical-align: top;\n",
       "    }\n",
       "\n",
       "    .dataframe thead th {\n",
       "        text-align: right;\n",
       "    }\n",
       "</style>\n",
       "<table border=\"1\" class=\"dataframe\">\n",
       "  <thead>\n",
       "    <tr style=\"text-align: right;\">\n",
       "      <th></th>\n",
       "      <th>KINASE</th>\n",
       "      <th>AFFINITY</th>\n",
       "      <th>LABEL</th>\n",
       "    </tr>\n",
       "  </thead>\n",
       "  <tbody>\n",
       "    <tr>\n",
       "      <th>0</th>\n",
       "      <td>EGFR(T790M)</td>\n",
       "      <td>1.000000</td>\n",
       "      <td>wo/MMFE</td>\n",
       "    </tr>\n",
       "    <tr>\n",
       "      <th>1</th>\n",
       "      <td>EGFR</td>\n",
       "      <td>0.843257</td>\n",
       "      <td>wo/MMFE</td>\n",
       "    </tr>\n",
       "    <tr>\n",
       "      <th>2</th>\n",
       "      <td>EGFR(E746-A750del)</td>\n",
       "      <td>0.807165</td>\n",
       "      <td>wo/MMFE</td>\n",
       "    </tr>\n",
       "    <tr>\n",
       "      <th>3</th>\n",
       "      <td>EGFR(G719C)</td>\n",
       "      <td>0.823053</td>\n",
       "      <td>wo/MMFE</td>\n",
       "    </tr>\n",
       "    <tr>\n",
       "      <th>4</th>\n",
       "      <td>EGFR(G719S)</td>\n",
       "      <td>0.872145</td>\n",
       "      <td>wo/MMFE</td>\n",
       "    </tr>\n",
       "    <tr>\n",
       "      <th>5</th>\n",
       "      <td>EGFR(L747-E749del,A750P)</td>\n",
       "      <td>0.904412</td>\n",
       "      <td>wo/MMFE</td>\n",
       "    </tr>\n",
       "    <tr>\n",
       "      <th>6</th>\n",
       "      <td>EGFR(L747-S752del,P753S)</td>\n",
       "      <td>0.935545</td>\n",
       "      <td>wo/MMFE</td>\n",
       "    </tr>\n",
       "    <tr>\n",
       "      <th>7</th>\n",
       "      <td>EGFR(L747-T751del,Sins)</td>\n",
       "      <td>0.850275</td>\n",
       "      <td>wo/MMFE</td>\n",
       "    </tr>\n",
       "    <tr>\n",
       "      <th>8</th>\n",
       "      <td>EGFR(L858R)</td>\n",
       "      <td>0.943723</td>\n",
       "      <td>wo/MMFE</td>\n",
       "    </tr>\n",
       "    <tr>\n",
       "      <th>9</th>\n",
       "      <td>EGFR(L858R,T790M)</td>\n",
       "      <td>0.622415</td>\n",
       "      <td>wo/MMFE</td>\n",
       "    </tr>\n",
       "    <tr>\n",
       "      <th>10</th>\n",
       "      <td>EGFR(L861Q)</td>\n",
       "      <td>0.924639</td>\n",
       "      <td>wo/MMFE</td>\n",
       "    </tr>\n",
       "    <tr>\n",
       "      <th>11</th>\n",
       "      <td>EGFR(S752-I759del)</td>\n",
       "      <td>0.856620</td>\n",
       "      <td>wo/MMFE</td>\n",
       "    </tr>\n",
       "    <tr>\n",
       "      <th>12</th>\n",
       "      <td>EGFR(T790M)</td>\n",
       "      <td>1.000000</td>\n",
       "      <td>w/MMFE</td>\n",
       "    </tr>\n",
       "    <tr>\n",
       "      <th>13</th>\n",
       "      <td>EGFR</td>\n",
       "      <td>0.571143</td>\n",
       "      <td>w/MMFE</td>\n",
       "    </tr>\n",
       "    <tr>\n",
       "      <th>14</th>\n",
       "      <td>EGFR(E746-A750del)</td>\n",
       "      <td>0.730237</td>\n",
       "      <td>w/MMFE</td>\n",
       "    </tr>\n",
       "    <tr>\n",
       "      <th>15</th>\n",
       "      <td>EGFR(G719C)</td>\n",
       "      <td>0.911035</td>\n",
       "      <td>w/MMFE</td>\n",
       "    </tr>\n",
       "    <tr>\n",
       "      <th>16</th>\n",
       "      <td>EGFR(G719S)</td>\n",
       "      <td>0.672375</td>\n",
       "      <td>w/MMFE</td>\n",
       "    </tr>\n",
       "    <tr>\n",
       "      <th>17</th>\n",
       "      <td>EGFR(L747-E749del,A750P)</td>\n",
       "      <td>0.611900</td>\n",
       "      <td>w/MMFE</td>\n",
       "    </tr>\n",
       "    <tr>\n",
       "      <th>18</th>\n",
       "      <td>EGFR(L747-S752del,P753S)</td>\n",
       "      <td>0.713452</td>\n",
       "      <td>w/MMFE</td>\n",
       "    </tr>\n",
       "    <tr>\n",
       "      <th>19</th>\n",
       "      <td>EGFR(L747-T751del,Sins)</td>\n",
       "      <td>0.736973</td>\n",
       "      <td>w/MMFE</td>\n",
       "    </tr>\n",
       "    <tr>\n",
       "      <th>20</th>\n",
       "      <td>EGFR(L858R)</td>\n",
       "      <td>0.648514</td>\n",
       "      <td>w/MMFE</td>\n",
       "    </tr>\n",
       "    <tr>\n",
       "      <th>21</th>\n",
       "      <td>EGFR(L858R,T790M)</td>\n",
       "      <td>0.753859</td>\n",
       "      <td>w/MMFE</td>\n",
       "    </tr>\n",
       "    <tr>\n",
       "      <th>22</th>\n",
       "      <td>EGFR(L861Q)</td>\n",
       "      <td>0.777119</td>\n",
       "      <td>w/MMFE</td>\n",
       "    </tr>\n",
       "    <tr>\n",
       "      <th>23</th>\n",
       "      <td>EGFR(S752-I759del)</td>\n",
       "      <td>0.572955</td>\n",
       "      <td>w/MMFE</td>\n",
       "    </tr>\n",
       "  </tbody>\n",
       "</table>\n",
       "</div>"
      ],
      "text/plain": [
       "                      KINASE  AFFINITY    LABEL\n",
       "0                EGFR(T790M)  1.000000  wo/MMFE\n",
       "1                       EGFR  0.843257  wo/MMFE\n",
       "2         EGFR(E746-A750del)  0.807165  wo/MMFE\n",
       "3                EGFR(G719C)  0.823053  wo/MMFE\n",
       "4                EGFR(G719S)  0.872145  wo/MMFE\n",
       "5   EGFR(L747-E749del,A750P)  0.904412  wo/MMFE\n",
       "6   EGFR(L747-S752del,P753S)  0.935545  wo/MMFE\n",
       "7    EGFR(L747-T751del,Sins)  0.850275  wo/MMFE\n",
       "8                EGFR(L858R)  0.943723  wo/MMFE\n",
       "9          EGFR(L858R,T790M)  0.622415  wo/MMFE\n",
       "10               EGFR(L861Q)  0.924639  wo/MMFE\n",
       "11        EGFR(S752-I759del)  0.856620  wo/MMFE\n",
       "12               EGFR(T790M)  1.000000   w/MMFE\n",
       "13                      EGFR  0.571143   w/MMFE\n",
       "14        EGFR(E746-A750del)  0.730237   w/MMFE\n",
       "15               EGFR(G719C)  0.911035   w/MMFE\n",
       "16               EGFR(G719S)  0.672375   w/MMFE\n",
       "17  EGFR(L747-E749del,A750P)  0.611900   w/MMFE\n",
       "18  EGFR(L747-S752del,P753S)  0.713452   w/MMFE\n",
       "19   EGFR(L747-T751del,Sins)  0.736973   w/MMFE\n",
       "20               EGFR(L858R)  0.648514   w/MMFE\n",
       "21         EGFR(L858R,T790M)  0.753859   w/MMFE\n",
       "22               EGFR(L861Q)  0.777119   w/MMFE\n",
       "23        EGFR(S752-I759del)  0.572955   w/MMFE"
      ]
     },
     "execution_count": 37,
     "metadata": {},
     "output_type": "execute_result"
    }
   ],
   "source": [
    "df_mean"
   ]
  },
  {
   "cell_type": "code",
   "execution_count": 38,
   "id": "5defc1f8-13b5-49f3-a533-3c2fd49a4a2f",
   "metadata": {},
   "outputs": [
    {
     "data": {
      "application/vnd.plotly.v1+json": {
       "config": {
        "plotlyServerURL": "https://plot.ly"
       },
       "data": [
        {
         "fill": "toself",
         "hovertemplate": "LABEL=wo/MMFE<br>AFFINITY=%{r}<br>KINASE=%{theta}<extra></extra>",
         "legendgroup": "wo/MMFE",
         "line": {
          "color": "#636efa",
          "dash": "solid"
         },
         "marker": {
          "symbol": "circle"
         },
         "mode": "lines",
         "name": "wo/MMFE",
         "r": {
          "bdata": "AAAAAAAA8D8yT04c9fvqP4XG8qtK1Ok/2W0PXXJW6j+iC3GlnejrP4eUIRny8Ow/SRYsq/vv7T/2HwptdDXrP4s/gMT6Mu4/UqaOItPq4z84FT4qpJbtP+IQZT1uaes/AAAAAAAA8D8=",
          "dtype": "f8"
         },
         "showlegend": true,
         "subplot": "polar",
         "theta": [
          "EGFR(T790M)",
          "EGFR",
          "EGFR(E746-A750del)",
          "EGFR(G719C)",
          "EGFR(G719S)",
          "EGFR(L747-E749del,A750P)",
          "EGFR(L747-S752del,P753S)",
          "EGFR(L747-T751del,Sins)",
          "EGFR(L858R)",
          "EGFR(L858R,T790M)",
          "EGFR(L861Q)",
          "EGFR(S752-I759del)",
          "EGFR(T790M)"
         ],
         "type": "scatterpolar"
        },
        {
         "fill": "toself",
         "hovertemplate": "LABEL=w/MMFE<br>AFFINITY=%{r}<br>KINASE=%{theta}<extra></extra>",
         "legendgroup": "w/MMFE",
         "line": {
          "color": "#EF553B",
          "dash": "solid"
         },
         "marker": {
          "symbol": "circle"
         },
         "mode": "lines",
         "name": "w/MMFE",
         "r": {
          "bdata": "AAAAAAAA8D+03m/vzEbiPwX8JTkaXuc/SP4lDDMn7T+Z/FxYGYTlP8DTb82ulOM/3DlKZpjU5j85etF1SJXnP7wUaGmgwOQ/Sj87tp0f6D/FCqwQKd7oP2kj42OmVeI/AAAAAAAA8D8=",
          "dtype": "f8"
         },
         "showlegend": true,
         "subplot": "polar",
         "theta": [
          "EGFR(T790M)",
          "EGFR",
          "EGFR(E746-A750del)",
          "EGFR(G719C)",
          "EGFR(G719S)",
          "EGFR(L747-E749del,A750P)",
          "EGFR(L747-S752del,P753S)",
          "EGFR(L747-T751del,Sins)",
          "EGFR(L858R)",
          "EGFR(L858R,T790M)",
          "EGFR(L861Q)",
          "EGFR(S752-I759del)",
          "EGFR(T790M)"
         ],
         "type": "scatterpolar"
        }
       ],
       "layout": {
        "height": 600,
        "legend": {
         "title": {
          "text": "LABEL"
         },
         "tracegroupgap": 0
        },
        "margin": {
         "t": 60
        },
        "polar": {
         "angularaxis": {
          "direction": "clockwise",
          "rotation": 90
         },
         "domain": {
          "x": [
           0,
           1
          ],
          "y": [
           0,
           1
          ]
         }
        },
        "template": {
         "data": {
          "bar": [
           {
            "error_x": {
             "color": "#2a3f5f"
            },
            "error_y": {
             "color": "#2a3f5f"
            },
            "marker": {
             "line": {
              "color": "#E5ECF6",
              "width": 0.5
             },
             "pattern": {
              "fillmode": "overlay",
              "size": 10,
              "solidity": 0.2
             }
            },
            "type": "bar"
           }
          ],
          "barpolar": [
           {
            "marker": {
             "line": {
              "color": "#E5ECF6",
              "width": 0.5
             },
             "pattern": {
              "fillmode": "overlay",
              "size": 10,
              "solidity": 0.2
             }
            },
            "type": "barpolar"
           }
          ],
          "carpet": [
           {
            "aaxis": {
             "endlinecolor": "#2a3f5f",
             "gridcolor": "white",
             "linecolor": "white",
             "minorgridcolor": "white",
             "startlinecolor": "#2a3f5f"
            },
            "baxis": {
             "endlinecolor": "#2a3f5f",
             "gridcolor": "white",
             "linecolor": "white",
             "minorgridcolor": "white",
             "startlinecolor": "#2a3f5f"
            },
            "type": "carpet"
           }
          ],
          "choropleth": [
           {
            "colorbar": {
             "outlinewidth": 0,
             "ticks": ""
            },
            "type": "choropleth"
           }
          ],
          "contour": [
           {
            "colorbar": {
             "outlinewidth": 0,
             "ticks": ""
            },
            "colorscale": [
             [
              0,
              "#0d0887"
             ],
             [
              0.1111111111111111,
              "#46039f"
             ],
             [
              0.2222222222222222,
              "#7201a8"
             ],
             [
              0.3333333333333333,
              "#9c179e"
             ],
             [
              0.4444444444444444,
              "#bd3786"
             ],
             [
              0.5555555555555556,
              "#d8576b"
             ],
             [
              0.6666666666666666,
              "#ed7953"
             ],
             [
              0.7777777777777778,
              "#fb9f3a"
             ],
             [
              0.8888888888888888,
              "#fdca26"
             ],
             [
              1,
              "#f0f921"
             ]
            ],
            "type": "contour"
           }
          ],
          "contourcarpet": [
           {
            "colorbar": {
             "outlinewidth": 0,
             "ticks": ""
            },
            "type": "contourcarpet"
           }
          ],
          "heatmap": [
           {
            "colorbar": {
             "outlinewidth": 0,
             "ticks": ""
            },
            "colorscale": [
             [
              0,
              "#0d0887"
             ],
             [
              0.1111111111111111,
              "#46039f"
             ],
             [
              0.2222222222222222,
              "#7201a8"
             ],
             [
              0.3333333333333333,
              "#9c179e"
             ],
             [
              0.4444444444444444,
              "#bd3786"
             ],
             [
              0.5555555555555556,
              "#d8576b"
             ],
             [
              0.6666666666666666,
              "#ed7953"
             ],
             [
              0.7777777777777778,
              "#fb9f3a"
             ],
             [
              0.8888888888888888,
              "#fdca26"
             ],
             [
              1,
              "#f0f921"
             ]
            ],
            "type": "heatmap"
           }
          ],
          "histogram": [
           {
            "marker": {
             "pattern": {
              "fillmode": "overlay",
              "size": 10,
              "solidity": 0.2
             }
            },
            "type": "histogram"
           }
          ],
          "histogram2d": [
           {
            "colorbar": {
             "outlinewidth": 0,
             "ticks": ""
            },
            "colorscale": [
             [
              0,
              "#0d0887"
             ],
             [
              0.1111111111111111,
              "#46039f"
             ],
             [
              0.2222222222222222,
              "#7201a8"
             ],
             [
              0.3333333333333333,
              "#9c179e"
             ],
             [
              0.4444444444444444,
              "#bd3786"
             ],
             [
              0.5555555555555556,
              "#d8576b"
             ],
             [
              0.6666666666666666,
              "#ed7953"
             ],
             [
              0.7777777777777778,
              "#fb9f3a"
             ],
             [
              0.8888888888888888,
              "#fdca26"
             ],
             [
              1,
              "#f0f921"
             ]
            ],
            "type": "histogram2d"
           }
          ],
          "histogram2dcontour": [
           {
            "colorbar": {
             "outlinewidth": 0,
             "ticks": ""
            },
            "colorscale": [
             [
              0,
              "#0d0887"
             ],
             [
              0.1111111111111111,
              "#46039f"
             ],
             [
              0.2222222222222222,
              "#7201a8"
             ],
             [
              0.3333333333333333,
              "#9c179e"
             ],
             [
              0.4444444444444444,
              "#bd3786"
             ],
             [
              0.5555555555555556,
              "#d8576b"
             ],
             [
              0.6666666666666666,
              "#ed7953"
             ],
             [
              0.7777777777777778,
              "#fb9f3a"
             ],
             [
              0.8888888888888888,
              "#fdca26"
             ],
             [
              1,
              "#f0f921"
             ]
            ],
            "type": "histogram2dcontour"
           }
          ],
          "mesh3d": [
           {
            "colorbar": {
             "outlinewidth": 0,
             "ticks": ""
            },
            "type": "mesh3d"
           }
          ],
          "parcoords": [
           {
            "line": {
             "colorbar": {
              "outlinewidth": 0,
              "ticks": ""
             }
            },
            "type": "parcoords"
           }
          ],
          "pie": [
           {
            "automargin": true,
            "type": "pie"
           }
          ],
          "scatter": [
           {
            "fillpattern": {
             "fillmode": "overlay",
             "size": 10,
             "solidity": 0.2
            },
            "type": "scatter"
           }
          ],
          "scatter3d": [
           {
            "line": {
             "colorbar": {
              "outlinewidth": 0,
              "ticks": ""
             }
            },
            "marker": {
             "colorbar": {
              "outlinewidth": 0,
              "ticks": ""
             }
            },
            "type": "scatter3d"
           }
          ],
          "scattercarpet": [
           {
            "marker": {
             "colorbar": {
              "outlinewidth": 0,
              "ticks": ""
             }
            },
            "type": "scattercarpet"
           }
          ],
          "scattergeo": [
           {
            "marker": {
             "colorbar": {
              "outlinewidth": 0,
              "ticks": ""
             }
            },
            "type": "scattergeo"
           }
          ],
          "scattergl": [
           {
            "marker": {
             "colorbar": {
              "outlinewidth": 0,
              "ticks": ""
             }
            },
            "type": "scattergl"
           }
          ],
          "scattermap": [
           {
            "marker": {
             "colorbar": {
              "outlinewidth": 0,
              "ticks": ""
             }
            },
            "type": "scattermap"
           }
          ],
          "scattermapbox": [
           {
            "marker": {
             "colorbar": {
              "outlinewidth": 0,
              "ticks": ""
             }
            },
            "type": "scattermapbox"
           }
          ],
          "scatterpolar": [
           {
            "marker": {
             "colorbar": {
              "outlinewidth": 0,
              "ticks": ""
             }
            },
            "type": "scatterpolar"
           }
          ],
          "scatterpolargl": [
           {
            "marker": {
             "colorbar": {
              "outlinewidth": 0,
              "ticks": ""
             }
            },
            "type": "scatterpolargl"
           }
          ],
          "scatterternary": [
           {
            "marker": {
             "colorbar": {
              "outlinewidth": 0,
              "ticks": ""
             }
            },
            "type": "scatterternary"
           }
          ],
          "surface": [
           {
            "colorbar": {
             "outlinewidth": 0,
             "ticks": ""
            },
            "colorscale": [
             [
              0,
              "#0d0887"
             ],
             [
              0.1111111111111111,
              "#46039f"
             ],
             [
              0.2222222222222222,
              "#7201a8"
             ],
             [
              0.3333333333333333,
              "#9c179e"
             ],
             [
              0.4444444444444444,
              "#bd3786"
             ],
             [
              0.5555555555555556,
              "#d8576b"
             ],
             [
              0.6666666666666666,
              "#ed7953"
             ],
             [
              0.7777777777777778,
              "#fb9f3a"
             ],
             [
              0.8888888888888888,
              "#fdca26"
             ],
             [
              1,
              "#f0f921"
             ]
            ],
            "type": "surface"
           }
          ],
          "table": [
           {
            "cells": {
             "fill": {
              "color": "#EBF0F8"
             },
             "line": {
              "color": "white"
             }
            },
            "header": {
             "fill": {
              "color": "#C8D4E3"
             },
             "line": {
              "color": "white"
             }
            },
            "type": "table"
           }
          ]
         },
         "layout": {
          "annotationdefaults": {
           "arrowcolor": "#2a3f5f",
           "arrowhead": 0,
           "arrowwidth": 1
          },
          "autotypenumbers": "strict",
          "coloraxis": {
           "colorbar": {
            "outlinewidth": 0,
            "ticks": ""
           }
          },
          "colorscale": {
           "diverging": [
            [
             0,
             "#8e0152"
            ],
            [
             0.1,
             "#c51b7d"
            ],
            [
             0.2,
             "#de77ae"
            ],
            [
             0.3,
             "#f1b6da"
            ],
            [
             0.4,
             "#fde0ef"
            ],
            [
             0.5,
             "#f7f7f7"
            ],
            [
             0.6,
             "#e6f5d0"
            ],
            [
             0.7,
             "#b8e186"
            ],
            [
             0.8,
             "#7fbc41"
            ],
            [
             0.9,
             "#4d9221"
            ],
            [
             1,
             "#276419"
            ]
           ],
           "sequential": [
            [
             0,
             "#0d0887"
            ],
            [
             0.1111111111111111,
             "#46039f"
            ],
            [
             0.2222222222222222,
             "#7201a8"
            ],
            [
             0.3333333333333333,
             "#9c179e"
            ],
            [
             0.4444444444444444,
             "#bd3786"
            ],
            [
             0.5555555555555556,
             "#d8576b"
            ],
            [
             0.6666666666666666,
             "#ed7953"
            ],
            [
             0.7777777777777778,
             "#fb9f3a"
            ],
            [
             0.8888888888888888,
             "#fdca26"
            ],
            [
             1,
             "#f0f921"
            ]
           ],
           "sequentialminus": [
            [
             0,
             "#0d0887"
            ],
            [
             0.1111111111111111,
             "#46039f"
            ],
            [
             0.2222222222222222,
             "#7201a8"
            ],
            [
             0.3333333333333333,
             "#9c179e"
            ],
            [
             0.4444444444444444,
             "#bd3786"
            ],
            [
             0.5555555555555556,
             "#d8576b"
            ],
            [
             0.6666666666666666,
             "#ed7953"
            ],
            [
             0.7777777777777778,
             "#fb9f3a"
            ],
            [
             0.8888888888888888,
             "#fdca26"
            ],
            [
             1,
             "#f0f921"
            ]
           ]
          },
          "colorway": [
           "#636efa",
           "#EF553B",
           "#00cc96",
           "#ab63fa",
           "#FFA15A",
           "#19d3f3",
           "#FF6692",
           "#B6E880",
           "#FF97FF",
           "#FECB52"
          ],
          "font": {
           "color": "#2a3f5f"
          },
          "geo": {
           "bgcolor": "white",
           "lakecolor": "white",
           "landcolor": "#E5ECF6",
           "showlakes": true,
           "showland": true,
           "subunitcolor": "white"
          },
          "hoverlabel": {
           "align": "left"
          },
          "hovermode": "closest",
          "mapbox": {
           "style": "light"
          },
          "paper_bgcolor": "white",
          "plot_bgcolor": "#E5ECF6",
          "polar": {
           "angularaxis": {
            "gridcolor": "white",
            "linecolor": "white",
            "ticks": ""
           },
           "bgcolor": "#E5ECF6",
           "radialaxis": {
            "gridcolor": "white",
            "linecolor": "white",
            "ticks": ""
           }
          },
          "scene": {
           "xaxis": {
            "backgroundcolor": "#E5ECF6",
            "gridcolor": "white",
            "gridwidth": 2,
            "linecolor": "white",
            "showbackground": true,
            "ticks": "",
            "zerolinecolor": "white"
           },
           "yaxis": {
            "backgroundcolor": "#E5ECF6",
            "gridcolor": "white",
            "gridwidth": 2,
            "linecolor": "white",
            "showbackground": true,
            "ticks": "",
            "zerolinecolor": "white"
           },
           "zaxis": {
            "backgroundcolor": "#E5ECF6",
            "gridcolor": "white",
            "gridwidth": 2,
            "linecolor": "white",
            "showbackground": true,
            "ticks": "",
            "zerolinecolor": "white"
           }
          },
          "shapedefaults": {
           "line": {
            "color": "#2a3f5f"
           }
          },
          "ternary": {
           "aaxis": {
            "gridcolor": "white",
            "linecolor": "white",
            "ticks": ""
           },
           "baxis": {
            "gridcolor": "white",
            "linecolor": "white",
            "ticks": ""
           },
           "bgcolor": "#E5ECF6",
           "caxis": {
            "gridcolor": "white",
            "linecolor": "white",
            "ticks": ""
           }
          },
          "title": {
           "x": 0.05
          },
          "xaxis": {
           "automargin": true,
           "gridcolor": "white",
           "linecolor": "white",
           "ticks": "",
           "title": {
            "standoff": 15
           },
           "zerolinecolor": "white",
           "zerolinewidth": 2
          },
          "yaxis": {
           "automargin": true,
           "gridcolor": "white",
           "linecolor": "white",
           "ticks": "",
           "title": {
            "standoff": 15
           },
           "zerolinecolor": "white",
           "zerolinewidth": 2
          }
         }
        },
        "width": 600
       }
      },
      "image/png": "[encoded data removed]"
     },
     "metadata": {},
     "output_type": "display_data"
    }
   ],
   "source": [
    "fig = px.line_polar(\n",
    "    df_mean,\n",
    "    r='AFFINITY',\n",
    "    theta='KINASE',\n",
    "    color='LABEL',\n",
    "    line_close=True,\n",
    "    width=600,\n",
    "    height=600,\n",
    "    #range_r=[0.5,1.1]\n",
    ")\n",
    "fig.update_traces(fill='toself')\n",
    "\n",
    "#fig.write_image(os.path.join(output_dir, f\"{target_kinase}.png\"))\n",
    "fig.show()"
   ]
  },
  {
   "cell_type": "code",
   "execution_count": null,
   "id": "eb3e6f33-f25b-4a18-8fde-a1b3c503764a",
   "metadata": {},
   "outputs": [],
   "source": []
  },
  {
   "cell_type": "code",
   "execution_count": null,
   "id": "b2d69c8f-c09d-4f1f-a950-336c91c3ff9f",
   "metadata": {},
   "outputs": [],
   "source": []
  }
 ],
 "metadata": {
  "kernelspec": {
   "display_name": "Python 3 (ipykernel)",
   "language": "python",
   "name": "python3"
  },
  "language_info": {
   "codemirror_mode": {
    "name": "ipython",
    "version": 3
   },
   "file_extension": ".py",
   "mimetype": "text/x-python",
   "name": "python",
   "nbconvert_exporter": "python",
   "pygments_lexer": "ipython3",
   "version": "3.9.19"
  }
 },
 "nbformat": 4,
 "nbformat_minor": 5
}
